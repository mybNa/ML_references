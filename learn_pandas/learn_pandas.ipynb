{
 "cells": [
  {
   "cell_type": "code",
   "execution_count": 2,
   "metadata": {},
   "outputs": [
    {
     "data": {
      "text/html": [
       "<div>\n",
       "<style scoped>\n",
       "    .dataframe tbody tr th:only-of-type {\n",
       "        vertical-align: middle;\n",
       "    }\n",
       "\n",
       "    .dataframe tbody tr th {\n",
       "        vertical-align: top;\n",
       "    }\n",
       "\n",
       "    .dataframe thead th {\n",
       "        text-align: right;\n",
       "    }\n",
       "</style>\n",
       "<table border=\"1\" class=\"dataframe\">\n",
       "  <thead>\n",
       "    <tr style=\"text-align: right;\">\n",
       "      <th></th>\n",
       "      <th>DESYNPUF_ID</th>\n",
       "      <th>BENE_BIRTH_DT</th>\n",
       "      <th>BENE_DEATH_DT</th>\n",
       "      <th>BENE_SEX_IDENT_CD</th>\n",
       "      <th>BENE_RACE_CD</th>\n",
       "      <th>BENE_ESRD_IND</th>\n",
       "      <th>SP_STATE_CODE</th>\n",
       "      <th>BENE_COUNTY_CD</th>\n",
       "      <th>BENE_HI_CVRAGE_TOT_MONS</th>\n",
       "      <th>BENE_SMI_CVRAGE_TOT_MONS</th>\n",
       "      <th>...</th>\n",
       "      <th>SP_STRKETIA</th>\n",
       "      <th>MEDREIMB_IP</th>\n",
       "      <th>BENRES_IP</th>\n",
       "      <th>PPPYMT_IP</th>\n",
       "      <th>MEDREIMB_OP</th>\n",
       "      <th>BENRES_OP</th>\n",
       "      <th>PPPYMT_OP</th>\n",
       "      <th>MEDREIMB_CAR</th>\n",
       "      <th>BENRES_CAR</th>\n",
       "      <th>PPPYMT_CAR</th>\n",
       "    </tr>\n",
       "  </thead>\n",
       "  <tbody>\n",
       "    <tr>\n",
       "      <th>0</th>\n",
       "      <td>00013D2EFD8E45D1</td>\n",
       "      <td>19230501</td>\n",
       "      <td>NaN</td>\n",
       "      <td>1</td>\n",
       "      <td>1</td>\n",
       "      <td>0</td>\n",
       "      <td>26</td>\n",
       "      <td>950</td>\n",
       "      <td>12</td>\n",
       "      <td>12</td>\n",
       "      <td>...</td>\n",
       "      <td>2</td>\n",
       "      <td>0.0</td>\n",
       "      <td>0.0</td>\n",
       "      <td>0.0</td>\n",
       "      <td>50.0</td>\n",
       "      <td>10.0</td>\n",
       "      <td>0.0</td>\n",
       "      <td>0.0</td>\n",
       "      <td>0.0</td>\n",
       "      <td>0.0</td>\n",
       "    </tr>\n",
       "    <tr>\n",
       "      <th>1</th>\n",
       "      <td>00016F745862898F</td>\n",
       "      <td>19430101</td>\n",
       "      <td>NaN</td>\n",
       "      <td>1</td>\n",
       "      <td>1</td>\n",
       "      <td>0</td>\n",
       "      <td>39</td>\n",
       "      <td>230</td>\n",
       "      <td>12</td>\n",
       "      <td>12</td>\n",
       "      <td>...</td>\n",
       "      <td>2</td>\n",
       "      <td>0.0</td>\n",
       "      <td>0.0</td>\n",
       "      <td>0.0</td>\n",
       "      <td>0.0</td>\n",
       "      <td>0.0</td>\n",
       "      <td>0.0</td>\n",
       "      <td>700.0</td>\n",
       "      <td>240.0</td>\n",
       "      <td>0.0</td>\n",
       "    </tr>\n",
       "    <tr>\n",
       "      <th>2</th>\n",
       "      <td>0001FDD721E223DC</td>\n",
       "      <td>19360901</td>\n",
       "      <td>NaN</td>\n",
       "      <td>2</td>\n",
       "      <td>1</td>\n",
       "      <td>0</td>\n",
       "      <td>39</td>\n",
       "      <td>280</td>\n",
       "      <td>12</td>\n",
       "      <td>12</td>\n",
       "      <td>...</td>\n",
       "      <td>2</td>\n",
       "      <td>0.0</td>\n",
       "      <td>0.0</td>\n",
       "      <td>0.0</td>\n",
       "      <td>0.0</td>\n",
       "      <td>0.0</td>\n",
       "      <td>0.0</td>\n",
       "      <td>0.0</td>\n",
       "      <td>0.0</td>\n",
       "      <td>0.0</td>\n",
       "    </tr>\n",
       "    <tr>\n",
       "      <th>3</th>\n",
       "      <td>00021CA6FF03E670</td>\n",
       "      <td>19410601</td>\n",
       "      <td>NaN</td>\n",
       "      <td>1</td>\n",
       "      <td>5</td>\n",
       "      <td>0</td>\n",
       "      <td>6</td>\n",
       "      <td>290</td>\n",
       "      <td>0</td>\n",
       "      <td>0</td>\n",
       "      <td>...</td>\n",
       "      <td>2</td>\n",
       "      <td>0.0</td>\n",
       "      <td>0.0</td>\n",
       "      <td>0.0</td>\n",
       "      <td>0.0</td>\n",
       "      <td>0.0</td>\n",
       "      <td>0.0</td>\n",
       "      <td>0.0</td>\n",
       "      <td>0.0</td>\n",
       "      <td>0.0</td>\n",
       "    </tr>\n",
       "    <tr>\n",
       "      <th>4</th>\n",
       "      <td>00024B3D2352D2D0</td>\n",
       "      <td>19360801</td>\n",
       "      <td>NaN</td>\n",
       "      <td>1</td>\n",
       "      <td>1</td>\n",
       "      <td>0</td>\n",
       "      <td>52</td>\n",
       "      <td>590</td>\n",
       "      <td>12</td>\n",
       "      <td>12</td>\n",
       "      <td>...</td>\n",
       "      <td>2</td>\n",
       "      <td>0.0</td>\n",
       "      <td>0.0</td>\n",
       "      <td>0.0</td>\n",
       "      <td>30.0</td>\n",
       "      <td>40.0</td>\n",
       "      <td>0.0</td>\n",
       "      <td>220.0</td>\n",
       "      <td>80.0</td>\n",
       "      <td>0.0</td>\n",
       "    </tr>\n",
       "  </tbody>\n",
       "</table>\n",
       "<p>5 rows × 32 columns</p>\n",
       "</div>"
      ],
      "text/plain": [
       "        DESYNPUF_ID  BENE_BIRTH_DT  BENE_DEATH_DT  BENE_SEX_IDENT_CD  \\\n",
       "0  00013D2EFD8E45D1       19230501            NaN                  1   \n",
       "1  00016F745862898F       19430101            NaN                  1   \n",
       "2  0001FDD721E223DC       19360901            NaN                  2   \n",
       "3  00021CA6FF03E670       19410601            NaN                  1   \n",
       "4  00024B3D2352D2D0       19360801            NaN                  1   \n",
       "\n",
       "   BENE_RACE_CD BENE_ESRD_IND  SP_STATE_CODE  BENE_COUNTY_CD  \\\n",
       "0             1             0             26             950   \n",
       "1             1             0             39             230   \n",
       "2             1             0             39             280   \n",
       "3             5             0              6             290   \n",
       "4             1             0             52             590   \n",
       "\n",
       "   BENE_HI_CVRAGE_TOT_MONS  BENE_SMI_CVRAGE_TOT_MONS     ...      SP_STRKETIA  \\\n",
       "0                       12                        12     ...                2   \n",
       "1                       12                        12     ...                2   \n",
       "2                       12                        12     ...                2   \n",
       "3                        0                         0     ...                2   \n",
       "4                       12                        12     ...                2   \n",
       "\n",
       "   MEDREIMB_IP  BENRES_IP  PPPYMT_IP  MEDREIMB_OP  BENRES_OP  PPPYMT_OP  \\\n",
       "0          0.0        0.0        0.0         50.0       10.0        0.0   \n",
       "1          0.0        0.0        0.0          0.0        0.0        0.0   \n",
       "2          0.0        0.0        0.0          0.0        0.0        0.0   \n",
       "3          0.0        0.0        0.0          0.0        0.0        0.0   \n",
       "4          0.0        0.0        0.0         30.0       40.0        0.0   \n",
       "\n",
       "   MEDREIMB_CAR  BENRES_CAR  PPPYMT_CAR  \n",
       "0           0.0         0.0         0.0  \n",
       "1         700.0       240.0         0.0  \n",
       "2           0.0         0.0         0.0  \n",
       "3           0.0         0.0         0.0  \n",
       "4         220.0        80.0         0.0  \n",
       "\n",
       "[5 rows x 32 columns]"
      ]
     },
     "execution_count": 2,
     "metadata": {},
     "output_type": "execute_result"
    }
   ],
   "source": [
    "#!/usr/bin/env python\n",
    "# importing\n",
    "\n",
    "from zipfile import ZipFile\n",
    "import numpy as np\n",
    "import matplotlib.pyplot as plt\n",
    "import pandas as pd\n",
    "import urllib.request as urllib2\n",
    "import io\n",
    "try:\n",
    "    from StringIO import StringIO\n",
    "except ImportError:\n",
    "    from io import StringIO\n",
    "\n",
    "%matplotlib inline\n",
    "\n",
    "# Get the Zip file from the given url\n",
    "link = \"https://www.cms.gov/Research-Statistics-Data-and-Systems/Downloadable-Public-Use-Files/SynPUFs/Downloads/DE1_0_2008_Beneficiary_Summary_File_Sample_1.zip\"\n",
    "r = urllib2.urlopen(link).read()\n",
    "file = ZipFile(io.BytesIO(r))\n",
    "\n",
    "# Open the file and read into a dataframe\n",
    "patient_data_csv = file.open(\"DE1_0_2008_Beneficiary_Summary_File_Sample_1.csv\")\n",
    "df = pd.read_csv(patient_data_csv, encoding='utf8')\n",
    "\n",
    "df.head()"
   ]
  },
  {
   "cell_type": "code",
   "execution_count": 3,
   "metadata": {},
   "outputs": [
    {
     "name": "stdout",
     "output_type": "stream",
     "text": [
      "There are 116352 of rows and 32 of columns in the given file.\n"
     ]
    }
   ],
   "source": [
    "# How many columns and rows are in the file?\n",
    "\n",
    "num_rows = df.shape[0]\n",
    "num_cols = df.shape[1]\n",
    "\n",
    "print(f'There are {num_rows} of rows and {num_cols} of columns in the given file.')"
   ]
  },
  {
   "cell_type": "code",
   "execution_count": 29,
   "metadata": {},
   "outputs": [
    {
     "data": {
      "text/plain": [
       "Index(['DESYNPUF_ID', 'BENE_BIRTH_DT', 'BENE_DEATH_DT', 'BENE_SEX_IDENT_CD',\n",
       "       'BENE_RACE_CD', 'BENE_ESRD_IND', 'SP_STATE_CODE', 'BENE_COUNTY_CD',\n",
       "       'BENE_HI_CVRAGE_TOT_MONS', 'BENE_SMI_CVRAGE_TOT_MONS',\n",
       "       'BENE_HMO_CVRAGE_TOT_MONS', 'PLAN_CVRG_MOS_NUM', 'SP_ALZHDMTA',\n",
       "       'SP_CHF', 'SP_CHRNKIDN', 'SP_CNCR', 'SP_COPD', 'SP_DEPRESSN',\n",
       "       'SP_DIABETES', 'SP_ISCHMCHT', 'SP_OSTEOPRS', 'SP_RA_OA', 'SP_STRKETIA',\n",
       "       'MEDREIMB_IP', 'BENRES_IP', 'PPPYMT_IP', 'MEDREIMB_OP', 'BENRES_OP',\n",
       "       'PPPYMT_OP', 'MEDREIMB_CAR', 'BENRES_CAR', 'PPPYMT_CAR'],\n",
       "      dtype='object')"
      ]
     },
     "execution_count": 29,
     "metadata": {},
     "output_type": "execute_result"
    }
   ],
   "source": [
    "# What are column names?\n",
    "# columns is a param\n",
    "\n",
    "df.columns"
   ]
  },
  {
   "cell_type": "code",
   "execution_count": 30,
   "metadata": {},
   "outputs": [
    {
     "name": "stdout",
     "output_type": "stream",
     "text": [
      "There are total 116352 unique IDs.\n"
     ]
    }
   ],
   "source": [
    "# Find unique IDs\n",
    "\n",
    "total_unique_ids = df['DESYNPUF_ID'].nunique()\n",
    "print(f'There are total {total_unique_ids} unique IDs.')"
   ]
  },
  {
   "cell_type": "code",
   "execution_count": 17,
   "metadata": {},
   "outputs": [
    {
     "name": "stdout",
     "output_type": "stream",
     "text": [
      "2    64347\n",
      "1    52005\n",
      "Name: BENE_SEX_IDENT_CD, dtype: int64\n",
      "Unique values in BENE_SEX_IDENT_CD column are [1 2]\n"
     ]
    },
    {
     "data": {
      "text/plain": [
       "2    0.553037\n",
       "1    0.446963\n",
       "Name: BENE_SEX_IDENT_CD, dtype: float64"
      ]
     },
     "execution_count": 17,
     "metadata": {},
     "output_type": "execute_result"
    }
   ],
   "source": [
    "# What fraction of numbers are male?\n",
    "# let's use value_counts() on the series;\n",
    "# this will return the count of unique occurrences in this column.\n",
    "\n",
    "# df.shape[0] will return the number of rows\n",
    "# value_counts() / number of rows will give fraction of of both genders\n",
    "\n",
    "print(f'{df[\"BENE_SEX_IDENT_CD\"].value_counts()}')\n",
    "print(f'Unique values in BENE_SEX_IDENT_CD column are {df[\"BENE_SEX_IDENT_CD\"].unique()}')\n",
    "# df['BENE_SEX_IDENT_CD'].value_counts() / df.shape[0]\n",
    "#(df['BENE_SEX_IDENT_CD'].value_counts() / df.shape[0]) * 100\n",
    "df['BENE_SEX_IDENT_CD'].value_counts(normalize=True)"
   ]
  },
  {
   "cell_type": "code",
   "execution_count": 22,
   "metadata": {},
   "outputs": [
    {
     "data": {
      "text/plain": [
       "1    0.828082\n",
       "2    0.106083\n",
       "3    0.042380\n",
       "5    0.023455\n",
       "Name: BENE_RACE_CD, dtype: float64"
      ]
     },
     "execution_count": 22,
     "metadata": {},
     "output_type": "execute_result"
    }
   ],
   "source": [
    "# Get fractional distribution of Race\n",
    "# Both the methods below give the same output\n",
    "# setting normalize=True, the object returned will contain the relative frequencies of the unique values\n",
    "\n",
    "#df['BENE_RACE_CD'].value_counts(normalize=True)\n",
    "df['BENE_RACE_CD'].value_counts() / df.shape[0]"
   ]
  },
  {
   "cell_type": "code",
   "execution_count": 21,
   "metadata": {
    "scrolled": true
   },
   "outputs": [
    {
     "name": "stdout",
     "output_type": "stream",
     "text": [
      "Unique values in BENE_RACE_CD column are [1 5 2 3]\n"
     ]
    },
    {
     "data": {
      "text/plain": [
       "<AxesSubplot:>"
      ]
     },
     "execution_count": 21,
     "metadata": {},
     "output_type": "execute_result"
    },
    {
     "data": {
      "image/png": "[encoded data removed]",
      "text/plain": [
       "<Figure size 432x288 with 1 Axes>"
      ]
     },
     "metadata": {
      "needs_background": "light"
     },
     "output_type": "display_data"
    }
   ],
   "source": [
    "# Generate a bar plot of the percentage of each race in the population\n",
    "\n",
    "print(f\"Unique values in BENE_RACE_CD column are {df['BENE_RACE_CD'].unique()}\")\n",
    "(df['BENE_RACE_CD'].value_counts(normalize=True)).plot.bar()"
   ]
  },
  {
   "cell_type": "code",
   "execution_count": 11,
   "metadata": {},
   "outputs": [
    {
     "name": "stdout",
     "output_type": "stream",
     "text": [
      "Unique values in PLAN_CVRG_MOS_NUM column are [12  0  8  5 10  7 11  2  4  9  3  6  1]\n"
     ]
    },
    {
     "data": {
      "text/plain": [
       "<AxesSubplot:>"
      ]
     },
     "execution_count": 11,
     "metadata": {},
     "output_type": "execute_result"
    },
    {
     "data": {
      "image/png": "[encoded data removed]",
      "text/plain": [
       "<Figure size 432x288 with 1 Axes>"
      ]
     },
     "metadata": {
      "needs_background": "light"
     },
     "output_type": "display_data"
    }
   ],
   "source": [
    "# Generate a bar plot of the percentage of plan coverage\n",
    "\n",
    "print(f\"Unique values in PLAN_CVRG_MOS_NUM column are {df['PLAN_CVRG_MOS_NUM'].unique()}\")\n",
    "(df['PLAN_CVRG_MOS_NUM'].value_counts() / df.shape[0]).plot.bar()"
   ]
  },
  {
   "cell_type": "code",
   "execution_count": 24,
   "metadata": {},
   "outputs": [
    {
     "name": "stdout",
     "output_type": "stream",
     "text": [
      "Unique values in SP_STATE_CODE column are [26 39  6 52 33 24 23  1 15 44 41 14 13 34 50 46 22 25 32  3 54 38 20 36\n",
      "  5 10 18 45 12 27 51 49 37 21 31 11 30  7  4 19  8  2 42 16 17 43  9 47\n",
      " 35 53 29 28]\n"
     ]
    },
    {
     "data": {
      "text/plain": [
       "<AxesSubplot:>"
      ]
     },
     "execution_count": 24,
     "metadata": {},
     "output_type": "execute_result"
    },
    {
     "data": {
      "image/png": "[encoded data removed]",
      "text/plain": [
       "<Figure size 432x288 with 1 Axes>"
      ]
     },
     "metadata": {
      "needs_background": "light"
     },
     "output_type": "display_data"
    }
   ],
   "source": [
    "# Generate a bar plot of the distribution of patients across different states\n",
    "# bins parameter is used to group the values together.\n",
    "\n",
    "print(f\"Unique values in SP_STATE_CODE column are {df['SP_STATE_CODE'].unique()}\")\n",
    "(df['SP_STATE_CODE'].value_counts(bins=10, ascending=True)).plot.bar()"
   ]
  },
  {
   "cell_type": "code",
   "execution_count": 31,
   "metadata": {},
   "outputs": [
    {
     "name": "stdout",
     "output_type": "stream",
     "text": [
      "Median age is 83.6677002265618 years.\n"
     ]
    }
   ],
   "source": [
    "# What is the median age as of December 31, 2019?\n",
    "\n",
    "import datetime\n",
    "\n",
    "end = datetime.datetime.strptime('2019-12-31', '%Y-%m-%d')\n",
    "begin = pd.to_datetime(df['BENE_BIRTH_DT'], format='%Y%m%d')\n",
    "#print(f'{end-begin}')\n",
    "age = (end - begin) / np.timedelta64(12, 'M')\n",
    "print(f'Median age is {age.median()} years.')"
   ]
  },
  {
   "cell_type": "code",
   "execution_count": 25,
   "metadata": {},
   "outputs": [
    {
     "name": "stdout",
     "output_type": "stream",
     "text": [
      "What is shape 116352\n"
     ]
    }
   ],
   "source": [
    "print(f'What is shape {df.shape[0]}')"
   ]
  },
  {
   "cell_type": "code",
   "execution_count": null,
   "metadata": {},
   "outputs": [],
   "source": []
  }
 ],
 "metadata": {
  "kernelspec": {
   "display_name": "Python 3",
   "language": "python",
   "name": "python3"
  },
  "language_info": {
   "codemirror_mode": {
    "name": "ipython",
    "version": 3
   },
   "file_extension": ".py",
   "mimetype": "text/x-python",
   "name": "python",
   "nbconvert_exporter": "python",
   "pygments_lexer": "ipython3",
   "version": "3.7.4"
  }
 },
 "nbformat": 4,
 "nbformat_minor": 2
}
